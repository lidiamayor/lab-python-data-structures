{
 "cells": [
  {
   "cell_type": "markdown",
   "metadata": {
    "tags": []
   },
   "source": [
    "# Lab | Data Structures "
   ]
  },
  {
   "cell_type": "markdown",
   "metadata": {},
   "source": [
    "## Exercise: Managing Customer Orders\n",
    "\n",
    "As part of a business venture, you are starting an online store that sells various products. To ensure smooth operations, you need to develop a program that manages customer orders and inventory.\n",
    "\n",
    "Follow the steps below to complete the exercise:\n",
    "\n",
    "1. Define a list called `products` that contains the following items: \"t-shirt\", \"mug\", \"hat\", \"book\", \"keychain\".\n",
    "\n",
    "2. Create an empty dictionary called `inventory`.\n",
    "\n",
    "3. Ask the user to input the quantity of each product available in the inventory. Use the product names from the `products` list as keys in the `inventory` dictionary and assign the respective quantities as values.\n",
    "\n",
    "4. Create an empty set called `customer_orders`.\n",
    "\n",
    "5. Ask the user to input the name of three products that a customer wants to order (from those in the products list, meaning three products out of \"t-shirt\", \"mug\", \"hat\", \"book\" or \"keychain\". Add each product name to the `customer_orders` set.\n",
    "\n",
    "6. Print the products in the `customer_orders` set.\n",
    "\n",
    "7. Calculate the following order statistics:\n",
    "   - Total Products Ordered: The total number of products in the `customer_orders` set.\n",
    "   - Percentage of Products Ordered: The percentage of products ordered compared to the total available products.\n",
    "   \n",
    "   Store these statistics in a tuple called `order_status`.\n",
    "\n",
    "8. Print the order statistics using the following format:\n",
    "   ```\n",
    "   Order Statistics:\n",
    "   Total Products Ordered: <total_products_ordered>\n",
    "   Percentage of Products Ordered: <percentage_ordered>% \n",
    "   ```\n",
    "\n",
    "9. Update the inventory by subtracting 1 from the quantity of each product. Modify the `inventory` dictionary accordingly.\n",
    "\n",
    "10. Print the updated inventory, displaying the quantity of each product on separate lines.\n",
    "\n",
    "Solve the exercise by implementing the steps using the Python concepts of lists, dictionaries, sets, and basic input/output operations. "
   ]
  },
  {
   "cell_type": "code",
   "execution_count": 5,
   "metadata": {},
   "outputs": [
    {
     "name": "stdout",
     "output_type": "stream",
     "text": [
      "\n",
      "Customer orders:\n",
      "{'mug', 'hat'}\n",
      "\n",
      "Order Statistics:\n",
      "Total Products Ordered: 2\n",
      "Percentage of Products Ordered: 0.904977375565611\n",
      "\n",
      "('t-shirt', 3)\n",
      "('mug', 44)\n",
      "('hat', 77)\n",
      "('book', 90)\n",
      "('keychain', 5)\n"
     ]
    }
   ],
   "source": [
    "products = [\"t-shirt\", \"mug\", \"hat\", \"book\", \"keychain\"] # list of products\n",
    "inventory = {} # empty dictionary to store the inventory\n",
    "\n",
    "for product in products:\n",
    "    available= input(f\"Enter the quantity of {product} available: \") # ask user to input the quantity of each product\n",
    "    while not available.isdigit(): # check if the input is an integer\n",
    "        available = input(f\"Invalid quantity. Please enter the quantity of {product} available: \")\n",
    "    inventory[product] = int(available) # add the product and its quantity to the inventory dictionary\n",
    "\n",
    "customer_orders = set() # empty set to store the customer orders\n",
    "\n",
    "for i in range(3):\n",
    "    product = input(f\"Please enter the product {i+1} you want: \") # ask user to input the three productc they want\n",
    "    while product not in products: # check if the input is in the list of products\n",
    "        product = input(f\"Invalid product. Please enter the product {i+1} you want: \")\n",
    "    customer_orders.add(product) # add the product to the customer orders\n",
    "\n",
    "print()\n",
    "print(\"Customer orders:\")\n",
    "print(customer_orders)\n",
    "\n",
    "total_products_ordered = len(customer_orders) # count the total number of products ordered\n",
    "available_products = sum(inventory.values()) # count the total number of products available\n",
    "percentage = total_products_ordered/available_products*100 # calculate the percentage of products ordered\n",
    "\n",
    "order_status = (total_products_ordered, percentage) # tuple of total products ordered and percentage\n",
    "print()\n",
    "print(\"Order Statistics:\")\n",
    "print(\"Total Products Ordered:\", total_products_ordered)\n",
    "print(\"Percentage of Products Ordered:\", percentage)\n",
    "\n",
    "for product in customer_orders:\n",
    "    inventory[product] -= 1 # update the inventory\n",
    "print()\n",
    "\n",
    "for item in inventory.items(): # print the updated inventory\n",
    "    print(item)"
   ]
  }
 ],
 "metadata": {
  "kernelspec": {
   "display_name": "Python 3 (ipykernel)",
   "language": "python",
   "name": "python3"
  },
  "language_info": {
   "codemirror_mode": {
    "name": "ipython",
    "version": 3
   },
   "file_extension": ".py",
   "mimetype": "text/x-python",
   "name": "python",
   "nbconvert_exporter": "python",
   "pygments_lexer": "ipython3",
   "version": "3.9.12"
  }
 },
 "nbformat": 4,
 "nbformat_minor": 4
}
